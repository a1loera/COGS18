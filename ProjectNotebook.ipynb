{
 "cells": [
  {
   "cell_type": "code",
   "execution_count": 21,
   "id": "918368f8-af7a-4bf2-99ab-824ad602a9e9",
   "metadata": {},
   "outputs": [
    {
     "name": "stdout",
     "output_type": "stream",
     "text": [
      "\u001b[1m============================= test session starts ==============================\u001b[0m\n",
      "platform linux -- Python 3.11.9, pytest-8.3.3, pluggy-1.5.0\n",
      "rootdir: /home/a1loera/FinalProject\n",
      "plugins: anyio-4.3.0\n",
      "collected 3 items                                                              \u001b[0m\u001b[1m\n",
      "\n",
      "my_modules/test_functions.py \u001b[32m.\u001b[0m\u001b[32m.\u001b[0m\u001b[32m.\u001b[0m\u001b[32m                                         [100%]\u001b[0m\n",
      "\n",
      "\u001b[32m============================== \u001b[32m\u001b[1m3 passed\u001b[0m\u001b[32m in 0.69s\u001b[0m\u001b[32m ===============================\u001b[0m\n"
     ]
    }
   ],
   "source": [
    "!pytest ./my_modules/test_functions.py"
   ]
  },
  {
   "cell_type": "markdown",
   "id": "8ff8e05f-8ea3-4e5e-9e29-5f5e3e24a653",
   "metadata": {},
   "source": [
    "Hello! Welcome to my Chatbot function thats allows the interaction with MakeCharacter() class\n",
    "\n",
    "to be stored into this current directory in a seprate file. I'll state the main purpose of the functions \n",
    "\n",
    "and classes used as well as go into depth with the concepts used beyond the course. They'll be italicized \n",
    "\n",
    "and expanded on at the end. Those present in the test_functions.py will also be expanded on also. Then \n",
    "\n",
    "finally, the chat itself!"
   ]
  },
  {
   "cell_type": "markdown",
   "id": "47e6f54b-3732-4d81-8025-341edee17d2a",
   "metadata": {},
   "source": [
    "**Overview of Codes**\n",
    "- **MakeCharacter()** This class contains the instance attributes of name, age, weapon,\n",
    "  \n",
    "health, attack, and weapon. There is a attack_power method that allow randomly assigns a number \n",
    "\n",
    "to attack and str method that returns all data gathered through interaction of user and chat.\n",
    "\n",
    "\n",
    "- **prepare_text** This function is considered the start of the chat bot and takes input given\n",
    "\n",
    "by the user, makes it all lowercase, and returns it as a list. This allows easier interaction \n",
    "\n",
    "with conditions of other functions.\n",
    "\n",
    "\n",
    "- **in_list** This function interacts with prepare_text to insure that the input given is\n",
    "\n",
    "functional for the chatbot to realize and continue.\n",
    "\n",
    "\n",
    "- **take_response** This function, if in_list passes as True, takes the input and matches it\n",
    "\n",
    "with a given list. If passed, another list is given to choose the appropriate response.\n",
    "\n",
    "\n",
    "- **get_valid_weapon** This functions interacts with both user input and the MakeCharacter() class.\n",
    "\n",
    "If input is considered valid, it will be added in but otherwise will be assigned a default ('Fists')\n",
    "\n",
    "\n",
    "- **save_character_to_file** This function interacts with the imported os and imported _JSON_ as\n",
    "\n",
    "well as the user input that is collected at the end of the chat bot. Using that data collected, \n",
    "\n",
    "it is stored into a file and organized in a dictionary format that is easily readable. Beginning \n",
    "\n",
    "the chat triggers another set of data being stored into the same file.\n",
    "\n",
    "\n",
    "- **create_character_from_input** This functions interacts with the chatbot and allows users to\n",
    "\n",
    "input information of their character, such as name and age and triggers the attack_power method. \n",
    "\n",
    "It is stored into a diction format, allowing easy access for _JSON_,  and it is stored into the \n",
    "\n",
    "file created by save_character_to_file. This same information is also used to make an object and \n",
    "\n",
    "is stored into the MakeCharacter class.\n",
    "\n",
    "\n",
    "- **end_chat** This functions allows the user to stop the chatbot at beginning interaction with\n",
    "\n",
    "the string 'quit'\n",
    "\n",
    "\n",
    "- **have_a_chat** This is the core code for the chat. Beginning with defined variables, it takes\n",
    "\n",
    "the user input and runs prepare_text (if end_chat is not True). This leads to in_list to be triggered \n",
    "\n",
    "and outputed a selected response by the lists defined. If properly passes through introducting, the \n",
    "\n",
    "rest of the functions allow the creation of the MakeCharacter object, the translation to _JSON_, and \n",
    "\n",
    "the file in which it is stored."
   ]
  },
  {
   "cell_type": "markdown",
   "id": "0ceab72b-4cc0-4eab-a2eb-ae37cec799c3",
   "metadata": {
    "jp-MarkdownHeadingCollapsed": true
   },
   "source": [
    "**Overview of additional concepts**\n",
    "- https://docs.python.org/3/library/json.html\n",
    "- https://docs.python.org/3/library/unittest.mock.html\n",
    "- https://docs.python.org/3/library/unittest.html#module-unittest\n",
    "- https://www.w3schools.com/python/python_json.asp\n",
    "\n",
    "Going into this, I wanted the user to create a character based off the interactions \n",
    "\n",
    "of the chatbot and potentially allow more interactions. However, the trial and error \n",
    "\n",
    "I experienced had a core problem: ending the chatbot erased all data collected. This \n",
    "\n",
    "wasn't realized until later on and I knew that I need to actually store the data outside \n",
    "\n",
    "of the chatbot to be used and also stored neatly. Therefore, using the websites shown above \n",
    "\n",
    "(and with a little help of Reddit, Youtube, and AI), I learned what was JSON and unittest. \n",
    "\n",
    "JSON wasn't too difficult too understand. It is based on JavaScript object notation and is \n",
    "\n",
    "accesible by Python to store and exchange data. It is predominantly used in the function \n",
    "\n",
    "save_character_to_file to load into file titled 'character_data' with json.load and uses \n",
    "\n",
    "json.dump to input that same data in a format imitation a dictionary. The next was a little \n",
    "\n",
    "more difficult and this was unittest. It is present in two of the test functions in \n",
    "\n",
    "test_functions.py. The reason why this was so difficult was that since the chatbot was \n",
    "\n",
    "reliant on user input, it had to be tested in way that mimicked the user and also interacted \n",
    "\n",
    "with the MakeCharacter class. This is why unittest, a testing framework, was used because it \n",
    "\n",
    "contains unittest.mock which allowed MagicMock. MagicMock is a subclass of Mock that excecutes \n",
    "\n",
    "certain operations and interacts with the class. Another function of Mock, Patch, is used to mock \n",
    "\n",
    "objects and allows data to be stores as if we were creating a normal object to the class. At \n",
    "\n",
    "the end of the test function, whatever was created isn't stored as it is 'mocking' real inputs."
   ]
  },
  {
   "cell_type": "code",
   "execution_count": 12,
   "id": "186ce553-0785-48c1-8a42-27c33cb406df",
   "metadata": {},
   "outputs": [],
   "source": [
    "import string \n",
    "import random \n",
    "import numpy as np\n",
    "import json \n",
    "import os \n",
    "\n",
    "from my_modules.classes import MakeCharacter\n",
    "from my_modules.functions import prepare_text\n",
    "from my_modules.functions import in_list\n",
    "from my_modules.functions import take_response\n",
    "from my_modules.functions import get_valid_weapon\n",
    "from my_modules.functions import save_character_to_file\n",
    "from my_modules.functions import create_character_from_input\n",
    "from my_modules.functions import end_chat\n",
    "from my_modules.functions import have_a_chat\n"
   ]
  },
  {
   "cell_type": "code",
   "execution_count": null,
   "id": "24620eb2-2510-4b8b-9934-ccb45e7bf389",
   "metadata": {},
   "outputs": [],
   "source": [
    "# Run to interact with project\n",
    "have_a_chat"
   ]
  }
 ],
 "metadata": {
  "kernelspec": {
   "display_name": "Python 3 (ipykernel)",
   "language": "python",
   "name": "python3"
  },
  "language_info": {
   "codemirror_mode": {
    "name": "ipython",
    "version": 3
   },
   "file_extension": ".py",
   "mimetype": "text/x-python",
   "name": "python",
   "nbconvert_exporter": "python",
   "pygments_lexer": "ipython3",
   "version": "3.11.9"
  }
 },
 "nbformat": 4,
 "nbformat_minor": 5
}
